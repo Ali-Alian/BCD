{
 "cells": [
  {
   "cell_type": "code",
   "execution_count": 1,
   "id": "1cf36248-6945-465e-8443-007a7ae52b55",
   "metadata": {},
   "outputs": [],
   "source": [
    "from typing import List\n"
   ]
  },
  {
   "cell_type": "code",
   "execution_count": 2,
   "id": "1e056cf2-c5d3-4c63-a43f-ccd684d0c1d2",
   "metadata": {},
   "outputs": [],
   "source": [
    "class Solution:\n",
    "    def threeSum(self, nums: List[int]) -> List[List[int]]:\n",
    "        sorted_nums = sorted(nums)\n",
    "        results = []\n",
    "        for i in range(len(sorted_nums)):\n",
    "            if i > 0 and sorted_nums[i] == sorted_nums[i - 1]:\n",
    "                continue\n",
    "            first_num = sorted_nums[i]\n",
    "            start = i + 1\n",
    "            end = len(sorted_nums) - 1\n",
    "            \n",
    "            while start<end:\n",
    "                result = first_num + sorted_nums[start] + sorted_nums[end]\n",
    "                if result == 0:\n",
    "                    results.append([first_num, sorted_nums[start], sorted_nums[end]])\n",
    "                    start += 1\n",
    "                    end -= 1\n",
    "                    while start < end and sorted_nums[start] == sorted_nums[start - 1]:\n",
    "                        start += 1\n",
    "    # skip duplicates for end\n",
    "                    while start < end and sorted_nums[end] == sorted_nums[end + 1]:\n",
    "                        end -= 1\n",
    "                elif result > 0:\n",
    "                    end -= 1\n",
    "                else:\n",
    "                    start += 1\n",
    "        return results\n",
    "\n"
   ]
  },
  {
   "cell_type": "code",
   "execution_count": 3,
   "id": "04551d83-db8e-43c0-809e-5037f6663465",
   "metadata": {},
   "outputs": [
    {
     "name": "stdout",
     "output_type": "stream",
     "text": [
      "[[-10, 5, 5], [-5, 0, 5], [-4, 2, 2], [-3, -2, 5], [-3, 1, 2], [-2, 0, 2]]\n"
     ]
    }
   ],
   "source": [
    "       \n",
    "solution = Solution()\n",
    "nums = [2,-3,0,-2,-5,-5,-4,1,2,-2,2,0,2,-4,5,5,-10]\n",
    "\n",
    "result = solution.threeSum(nums)\n",
    "print(result)  # Output should be [0, 1]"
   ]
  },
  {
   "cell_type": "code",
   "execution_count": null,
   "id": "bfa85fb1-aafe-456a-9727-593f1458be0f",
   "metadata": {},
   "outputs": [],
   "source": []
  }
 ],
 "metadata": {
  "kernelspec": {
   "display_name": "Python 3 (ipykernel)",
   "language": "python",
   "name": "python3"
  },
  "language_info": {
   "codemirror_mode": {
    "name": "ipython",
    "version": 3
   },
   "file_extension": ".py",
   "mimetype": "text/x-python",
   "name": "python",
   "nbconvert_exporter": "python",
   "pygments_lexer": "ipython3",
   "version": "3.10.14"
  }
 },
 "nbformat": 4,
 "nbformat_minor": 5
}
