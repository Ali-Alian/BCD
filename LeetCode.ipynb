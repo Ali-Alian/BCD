{
 "cells": [
  {
   "cell_type": "code",
   "execution_count": 7,
   "id": "1e056cf2-c5d3-4c63-a43f-ccd684d0c1d2",
   "metadata": {},
   "outputs": [
    {
     "name": "stdout",
     "output_type": "stream",
     "text": [
      "0\n",
      "3\n",
      "None\n"
     ]
    }
   ],
   "source": [
    "from typing import List\n",
    "\n",
    "class Solution:\n",
    "    def twoSum(self, numbers: List[int], target: int) -> List[int]:\n",
    "        start = 0\n",
    "        end = len(numbers) - 1\n",
    "        print(start)\n",
    "        print(end)\n",
    "\n",
    "solution = Solution()\n",
    "numbers = [2, 7, 11, 15]\n",
    "target = 9\n",
    "result = solution.twoSum(nums, target)\n",
    "print(result)  # Output should be [0, 1]"
   ]
  }
 ],
 "metadata": {
  "kernelspec": {
   "display_name": "Python 3 (ipykernel)",
   "language": "python",
   "name": "python3"
  },
  "language_info": {
   "codemirror_mode": {
    "name": "ipython",
    "version": 3
   },
   "file_extension": ".py",
   "mimetype": "text/x-python",
   "name": "python",
   "nbconvert_exporter": "python",
   "pygments_lexer": "ipython3",
   "version": "3.10.14"
  }
 },
 "nbformat": 4,
 "nbformat_minor": 5
}
