{
 "cells": [
  {
   "cell_type": "code",
   "execution_count": null,
   "id": "b7dd5185-29b6-45b7-a19f-c6d52e4313be",
   "metadata": {},
   "outputs": [],
   "source": [
    "# img = []\n",
    "# for file in img_files:\n",
    "#     image = Image.open(file)\n",
    "#     img.append(image)\n",
    "# # images = [Image.open(file) for file in img_files]\n",
    "\n",
    "# columns = 5\n",
    "# rows = len(img) // columns + int(len(img) % columns !=0)\n",
    "\n",
    "# fig, axes = plt.subplots(rows, columns, figsize=(15,15))\n",
    "# axes = axes.flatten()\n",
    "\n",
    "# for idx, image in enumerate(img):\n",
    "#     axes[idx].imshow(image, cmap='gray')\n",
    "#     axes[idx].axis('off')\n",
    "#     axes[idx].set_title(f\"Image {idx+1}\")\n",
    "\n",
    "# for ax in axes[len(img):]:\n",
    "#     ax.axis('off')\n",
    "\n",
    "\n",
    "\n",
    "# print(f\"found {len(img_files)} .pgm images\")\n",
    "# plt.tight_layout()\n",
    "# plt.show()\n",
    "#####################################################################\n",
    "# cols = 5\n",
    "# rows = len(images) // cols + int(len(images) % cols != 0)\n",
    "\n",
    "# # Create subplots\n",
    "# # fig, axes = plt.subplots(rows, cols, figsize=(15, 15))\n",
    "# fig, axes = plt.subplots(rows, cols, figsize=(15, 15))\n",
    "\n",
    "# axes = axes.flatten()  # Flatten in case of 2D array of axes\n",
    "\n",
    "# # Loop through images and plot each one\n",
    "# for idx, img in enumerate(images):\n",
    "#     axes[idx].imshow(img, cmap='gray')\n",
    "#     axes[idx].axis('off')\n",
    "#     axes[idx].set_title(f\"Image {idx+1}\")\n",
    "\n",
    "# # Turn off any unused subplots\n",
    "# for ax in axes[len(images):]:\n",
    "#     ax.axis('off')\n",
    "\n",
    "# plt.tight_layout()\n",
    "# plt.show()"
   ]
  }
 ],
 "metadata": {
  "kernelspec": {
   "display_name": "Python 3 (ipykernel)",
   "language": "python",
   "name": "python3"
  },
  "language_info": {
   "codemirror_mode": {
    "name": "ipython",
    "version": 3
   },
   "file_extension": ".py",
   "mimetype": "text/x-python",
   "name": "python",
   "nbconvert_exporter": "python",
   "pygments_lexer": "ipython3",
   "version": "3.13.1"
  }
 },
 "nbformat": 4,
 "nbformat_minor": 5
}
