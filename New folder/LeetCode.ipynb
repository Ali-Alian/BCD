{
 "cells": [
  {
   "cell_type": "code",
   "execution_count": 1,
   "id": "1cf36248-6945-465e-8443-007a7ae52b55",
   "metadata": {},
   "outputs": [],
   "source": [
    "from typing import List\n"
   ]
  },
  {
   "cell_type": "code",
   "execution_count": 2,
   "id": "1e056cf2-c5d3-4c63-a43f-ccd684d0c1d2",
   "metadata": {},
   "outputs": [],
   "source": [
    "class Solution:\n",
    "    def threeSum(self, nums: List[int]) -> List[List[int]]:\n",
    "        sorted_nums = sorted(nums)\n",
    "        results = []\n",
    "        for i in range(len(sorted_nums)):\n",
    "            if i > 0 and sorted_nums[i] == sorted_nums[i - 1]:\n",
    "                continue\n",
    "            first_num = sorted_nums[i]\n",
    "            start = i + 1\n",
    "            end = len(sorted_nums) - 1\n",
    "            \n",
    "            while start<end:\n",
    "                result = first_num + sorted_nums[start] + sorted_nums[end]\n",
    "                if result == 0:\n",
    "                    results.append([first_num, sorted_nums[start], sorted_nums[end]])\n",
    "                    start += 1\n",
    "                    end -= 1\n",
    "                    while start < end and sorted_nums[start] == sorted_nums[start - 1]:\n",
    "                        start += 1\n",
    "    # skip duplicates for end\n",
    "                    while start < end and sorted_nums[end] == sorted_nums[end + 1]:\n",
    "                        end -= 1\n",
    "                elif result > 0:\n",
    "                    end -= 1\n",
    "                else:\n",
    "                    start += 1\n",
    "        return results\n",
    "\n"
   ]
  },
  {
   "cell_type": "code",
   "execution_count": 3,
   "id": "04551d83-db8e-43c0-809e-5037f6663465",
   "metadata": {},
   "outputs": [
    {
     "name": "stdout",
     "output_type": "stream",
     "text": [
      "[[-10, 5, 5], [-5, 0, 5], [-4, 2, 2], [-3, -2, 5], [-3, 1, 2], [-2, 0, 2]]\n"
     ]
    }
   ],
   "source": [
    "       \n",
    "solution = Solution()\n",
    "nums = [2,-3,0,-2,-5,-5,-4,1,2,-2,2,0,2,-4,5,5,-10]\n",
    "\n",
    "result = solution.threeSum(nums)\n",
    "print(result)  # Output should be [0, 1]"
   ]
  },
  {
   "cell_type": "code",
   "execution_count": 46,
   "id": "bfa85fb1-aafe-456a-9727-593f1458be0f",
   "metadata": {},
   "outputs": [],
   "source": [
    "class Solution:\n",
    "    def isPalindrome(self, x: int) -> bool:\n",
    "        if isinstance(x, str):\n",
    "            seq = x\n",
    "        elif isinstance(x, (list, tuple)):\n",
    "            seq = list(x)\n",
    "        elif isinstance(x, int):\n",
    "            if x < 0:\n",
    "                return False\n",
    "            else:\n",
    "                num = []\n",
    "                n = x\n",
    "                while n > 0:\n",
    "                    num.append(n%10)\n",
    "                    n //=10\n",
    "                    seq= num\n",
    "        start = 0\n",
    "        end = len(seq) -1\n",
    "        while start < end:\n",
    "            if seq[start] == seq[end]:\n",
    "                start += 1\n",
    "                end -= 1\n",
    "            else:\n",
    "                return False\n",
    "        return True\n",
    "            \n",
    "            \n",
    "        # elif isinstance(x, float):\n",
    "        #     do something\n",
    "        # elif isinstance(x, numbers.Number):\n",
    "        #     do something\n",
    "        # elif isinstance(x, collections.abc.Sequence):\n",
    "        #     do something\n",
    "        \n",
    "            \n"
   ]
  },
  {
   "cell_type": "code",
   "execution_count": 47,
   "id": "9e1df67c-92d9-4350-8ea3-9c2f3d95cea3",
   "metadata": {},
   "outputs": [
    {
     "name": "stdout",
     "output_type": "stream",
     "text": [
      "True\n"
     ]
    }
   ],
   "source": [
    "solution = Solution()\n",
    "x = 121\n",
    "result = solution.isPalindrome(x)\n",
    "print(result)"
   ]
  },
  {
   "cell_type": "code",
   "execution_count": 64,
   "id": "ff6a8771-e6db-4097-ad56-794aa87bc337",
   "metadata": {},
   "outputs": [],
   "source": [
    "\n",
    "def isPalindrome(s):\n",
    "    if isinstance(s, (list, tuple, str)):\n",
    "        s.lower()\n",
    "        start = 0\n",
    "        end = len(s) - 1\n",
    "        while start < end:\n",
    "            if s[start] == s[end]:\n",
    "                start += 1\n",
    "                end -= 1\n",
    "            else:\n",
    "                print(s)\n",
    "                return False\n",
    "        return True"
   ]
  },
  {
   "cell_type": "code",
   "execution_count": 66,
   "id": "ef0374ee-6651-4667-ac8d-3c938e676af8",
   "metadata": {},
   "outputs": [
    {
     "name": "stdout",
     "output_type": "stream",
     "text": [
      "True\n"
     ]
    }
   ],
   "source": [
    "s = \"alexxela\"\n",
    "test = isPalindrome(s)\n",
    "print(test)"
   ]
  },
  {
   "cell_type": "markdown",
   "id": "3e00adea-2ba0-4d00-9a59-21924261b39c",
   "metadata": {},
   "source": [
    "Marge string array\n"
   ]
  },
  {
   "cell_type": "code",
   "execution_count": null,
   "id": "886957f6-0bad-4d56-b1c4-592f85359292",
   "metadata": {},
   "outputs": [],
   "source": []
  },
  {
   "cell_type": "code",
   "execution_count": 150,
   "id": "4bae7ff9-d75f-4d2b-af64-7ec6c0ad764d",
   "metadata": {},
   "outputs": [],
   "source": [
    "class Solution:\n",
    "    def isPalindrome(self, word: str, word2:str) -> str:\n",
    "        # print(word[0])\n",
    "        merged = \"\"\n",
    "        p1 = 0 \n",
    "        p2 = 0\n",
    "        # print(word[3::])\n",
    "        # l_word = len(word)\n",
    "        # l_word2 = len(word2)\n",
    "        # result0 = l_word - l_word2\n",
    "        # print(result0)\n",
    "\n",
    "        len_1 = len(word)\n",
    "        len_2 = len(word2)\n",
    "        \n",
    "        if len_1 > len_2:\n",
    "            extra = word[len_2:] \n",
    "            print(extra)\n",
    "            range_2 = len_2\n",
    "            # result1 = l_word + l_word2\n",
    "            # print(f\"result is {result}\")\n",
    "            # final = result1 - 1\n",
    "            # print(word[final])\n",
    "            # print(l_word)\n",
    "        else: \n",
    "            range_2 = len_1\n",
    "            extra = word2[len_1:]\n",
    "        for i in range(range_2):\n",
    "            merged = merged + word[i] + word2[i]\n",
    "            p1 += 1\n",
    "            p2 += 1\n",
    "        return merged + extra\n",
    "        \n",
    "        # merged.append(word, word2)\n",
    "        # return marged\n",
    "        "
   ]
  },
  {
   "cell_type": "code",
   "execution_count": 163,
   "id": "6cd7ce22-feb1-4642-a66b-a7fc4de3a657",
   "metadata": {},
   "outputs": [],
   "source": [
    "class Solution:\n",
    "    def mergeAlternately(self, word1: str, word2: str) -> str:\n",
    "        merged = \"\"\n",
    "        p1, p2 = 0, 0 \n",
    "        # p2 = 0\n",
    "        len_1 = len(word1)\n",
    "        len_2 = len(word2)\n",
    "        if len_1 > len_2:\n",
    "            \n",
    "            extra = word1[len_2:]\n",
    "            print(extra)\n",
    "            w_range = len_2\n",
    "        else:\n",
    "            extra = word2[len_1:]\n",
    "            w_range = len_2\n",
    "        \n",
    "        for i in range(w_range):\n",
    "            merged = merged + word1[i] + word2[i]\n",
    "            p1 +=1\n",
    "            p2+= 1\n",
    "        return merged + extra"
   ]
  },
  {
   "cell_type": "code",
   "execution_count": 164,
   "id": "7335eca4-b287-48bf-9bc5-99bbbf5bd9fc",
   "metadata": {},
   "outputs": [
    {
     "name": "stdout",
     "output_type": "stream",
     "text": [
      "abcdef\n"
     ]
    }
   ],
   "source": [
    "solution = Solution()\n",
    "word = \"ace\"\n",
    "word2 = \"bdf\"\n",
    "result = solution.mergeAlternately(word, word2)\n",
    "print(result)"
   ]
  },
  {
   "cell_type": "code",
   "execution_count": null,
   "id": "f770ff49-8c18-4885-9afc-dd945300e642",
   "metadata": {},
   "outputs": [],
   "source": []
  },
  {
   "cell_type": "code",
   "execution_count": null,
   "id": "2f4a0c70-145e-40e6-b857-532af61a7cce",
   "metadata": {},
   "outputs": [],
   "source": []
  }
 ],
 "metadata": {
  "kernelspec": {
   "display_name": "Python 3 (ipykernel)",
   "language": "python",
   "name": "python3"
  },
  "language_info": {
   "codemirror_mode": {
    "name": "ipython",
    "version": 3
   },
   "file_extension": ".py",
   "mimetype": "text/x-python",
   "name": "python",
   "nbconvert_exporter": "python",
   "pygments_lexer": "ipython3",
   "version": "3.10.14"
  }
 },
 "nbformat": 4,
 "nbformat_minor": 5
}
